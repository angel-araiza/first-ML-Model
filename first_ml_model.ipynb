{
  "nbformat": 4,
  "nbformat_minor": 0,
  "metadata": {
    "colab": {
      "provenance": [],
      "authorship_tag": "ABX9TyMJrt+Wdw91O0bJhSXWLWx9",
      "include_colab_link": true
    },
    "kernelspec": {
      "name": "python3",
      "display_name": "Python 3"
    },
    "language_info": {
      "name": "python"
    }
  },
  "cells": [
    {
      "cell_type": "markdown",
      "metadata": {
        "id": "view-in-github",
        "colab_type": "text"
      },
      "source": [
        "<a href=\"https://colab.research.google.com/github/angel-araiza/first-ML-Model/blob/main/first_ml_model.ipynb\" target=\"_parent\"><img src=\"https://colab.research.google.com/assets/colab-badge.svg\" alt=\"Open In Colab\"/></a>"
      ]
    },
    {
      "cell_type": "code",
      "execution_count": 1,
      "metadata": {
        "colab": {
          "base_uri": "https://localhost:8080/"
        },
        "id": "krRpUcqYk3gG",
        "outputId": "8e59f9ac-994d-4543-8466-6530ba6cbe21"
      },
      "outputs": [
        {
          "output_type": "stream",
          "name": "stdout",
          "text": [
            "TensorFlow version: 2.17.0\n"
          ]
        }
      ],
      "source": [
        "import tensorflow as tf\n",
        "print(\"TensorFlow version:\", tf.__version__)"
      ]
    },
    {
      "cell_type": "markdown",
      "source": [
        "loading data here:\n",
        "\n"
      ],
      "metadata": {
        "id": "E80WYEVOlTYn"
      }
    },
    {
      "cell_type": "code",
      "source": [
        "mnist = tf.keras.datasets.mnist\n",
        "(x_train, y_train), (x_test, y_test) = mnist.load_data()\n",
        "x_train, x_test = x_train / 255.0, x_test / 255.0"
      ],
      "metadata": {
        "colab": {
          "base_uri": "https://localhost:8080/"
        },
        "id": "NTieCf--lnVt",
        "outputId": "b5bcf52e-9492-46d7-b0c2-6a3a8f919b15"
      },
      "execution_count": 2,
      "outputs": [
        {
          "output_type": "stream",
          "name": "stdout",
          "text": [
            "Downloading data from https://storage.googleapis.com/tensorflow/tf-keras-datasets/mnist.npz\n",
            "\u001b[1m11490434/11490434\u001b[0m \u001b[32m━━━━━━━━━━━━━━━━━━━━\u001b[0m\u001b[37m\u001b[0m \u001b[1m0s\u001b[0m 0us/step\n"
          ]
        }
      ]
    },
    {
      "cell_type": "markdown",
      "source": [
        "Building a machine learning model:\n",
        "Build a tf.keras.Sequential model"
      ],
      "metadata": {
        "id": "XlcMzXcGlxiu"
      }
    },
    {
      "cell_type": "code",
      "source": [
        "model = tf.keras.models.Sequential([\n",
        "    tf.keras.layers.Flatten(input_shape=(28,28)),\n",
        "    tf.keras.layers.Dense(128, activation = 'relu'),\n",
        "    # The dense layer means that all the previous inputs are connected\n",
        "    # to the next layer of all the inputs\n",
        "    tf.keras.layers.Dropout(0.2), # What does Dropout mean?\n",
        "    # The dropout layer, randomly sets up input units to 0, with a frequency\n",
        "    # rate as eash step during the - TRAINING- time, this helps prevent\n",
        "    # over fitting. Inputs not set to 0, are scaled up by \"1 / (1-rate)\" such\n",
        "    # that the sum over all the inputs is unchanged\n",
        "    tf.keras.layers.Dense(10)\n",
        "])"
      ],
      "metadata": {
        "colab": {
          "base_uri": "https://localhost:8080/"
        },
        "id": "WXBZ0jdPu0sY",
        "outputId": "d7d35503-b002-46d0-9a5d-074b57772d96"
      },
      "execution_count": 10,
      "outputs": [
        {
          "output_type": "stream",
          "name": "stderr",
          "text": [
            "/usr/local/lib/python3.10/dist-packages/keras/src/layers/reshaping/flatten.py:37: UserWarning: Do not pass an `input_shape`/`input_dim` argument to a layer. When using Sequential models, prefer using an `Input(shape)` object as the first layer in the model instead.\n",
            "  super().__init__(**kwargs)\n"
          ]
        }
      ]
    },
    {
      "cell_type": "markdown",
      "source": [
        "Sequential is class that is useful when stacking layers (when each layer has 1 input tensor and 1 output tensor) .       * Most tf models are composed of layers.      *\n",
        "* This model returns a vector of logits or log-odds scores, one for each class [What are logits or log-odds?]\n",
        "- \"logits\" are the unprocessed prediction scores of that your model outputs (from the second to last layer of the model)\n",
        "- \"log-odds\"  - is the logorithm of the probability of the event happening or not."
      ],
      "metadata": {
        "id": "aNLgCFGqvTFo"
      }
    },
    {
      "cell_type": "code",
      "source": [
        "predictions = model(x_train[:1]).numpy() # what does \":1\" mean?\n",
        "#is that the slice of just the first item in the array?\n",
        "predictions"
      ],
      "metadata": {
        "colab": {
          "base_uri": "https://localhost:8080/"
        },
        "id": "i2CHSyQMwQYa",
        "outputId": "65d19276-8243-4939-c4f6-ffa0d30f2a9a"
      },
      "execution_count": 11,
      "outputs": [
        {
          "output_type": "execute_result",
          "data": {
            "text/plain": [
              "array([[-0.04933465, -0.13350551,  0.6854698 ,  0.0279381 , -0.41689253,\n",
              "        -0.29725966, -0.4768116 , -0.27932826,  0.2960616 , -0.3170558 ]],\n",
              "      dtype=float32)"
            ]
          },
          "metadata": {},
          "execution_count": 11
        }
      ]
    },
    {
      "cell_type": "markdown",
      "source": [
        "The \"tf.nn.softmax\" function converts these logits to probabilities for each class:"
      ],
      "metadata": {
        "id": "dcItZa2ez-A7"
      }
    },
    {
      "cell_type": "code",
      "source": [
        "tf.nn.softmax(predictions).numpy()"
      ],
      "metadata": {
        "colab": {
          "base_uri": "https://localhost:8080/"
        },
        "id": "oo3OqqOrwLNf",
        "outputId": "3f9f932c-059a-4bce-c034-fdd9338e2278"
      },
      "execution_count": 12,
      "outputs": [
        {
          "output_type": "execute_result",
          "data": {
            "text/plain": [
              "array([[0.09821361, 0.09028523, 0.20478266, 0.10610376, 0.06800538,\n",
              "        0.07664771, 0.06405024, 0.07803451, 0.13873158, 0.0751453 ]],\n",
              "      dtype=float32)"
            ]
          },
          "metadata": {},
          "execution_count": 12
        }
      ]
    },
    {
      "cell_type": "markdown",
      "source": [
        "This is our loss function for training. And this  vvv is how you define it:\n",
        "\n",
        "losses.SparseCategoricalCrossentropy\n"
      ],
      "metadata": {
        "id": "U5F4qWff0i3e"
      }
    },
    {
      "cell_type": "code",
      "source": [
        "loss_fn = tf.keras.losses.SparseCategoricalCrossentropy(from_logits=True)\n"
      ],
      "metadata": {
        "id": "6sUdM3WT0qzp"
      },
      "execution_count": 13,
      "outputs": []
    },
    {
      "cell_type": "markdown",
      "source": [
        "The loss function takes the vector of the ground truth values and a vector of logits and returns a scalar loss for each example. - What is a scalar loss?\n",
        "* The loss is equal to the negative log probability of the true class: meaning the loss is zero if the model is sure of the correct class.\n",
        "* _btw_ the scalar loss  is one number that represents the error of a models predications comared to the actual target values during training. (it measures how well the model is performing)"
      ],
      "metadata": {
        "id": "DP4vo8gw1gWb"
      }
    },
    {
      "cell_type": "code",
      "source": [
        "loss_fn(y_train[:1], predictions).numpy()"
      ],
      "metadata": {
        "colab": {
          "base_uri": "https://localhost:8080/"
        },
        "id": "vq9DLkA92A_j",
        "outputId": "a1d333f2-227b-44d3-dd2e-559db49d02f2"
      },
      "execution_count": 14,
      "outputs": [
        {
          "output_type": "execute_result",
          "data": {
            "text/plain": [
              "2.5685353"
            ]
          },
          "metadata": {},
          "execution_count": 14
        }
      ]
    },
    {
      "cell_type": "markdown",
      "source": [
        "Before you start training your model you need to:\n",
        "1. Set-up the model\n",
        "2. compile the model (using Keras -> Model.compile)\n",
        "- Set the optimizer class to \"adam\"\n",
        "- Set the loss to the loss_fn\n",
        "- Set what metric you want the model to be evaluated by (we will set metrics parameter to \"accuracy\"\n"
      ],
      "metadata": {
        "id": "D9tNLJkc2vm_"
      }
    },
    {
      "cell_type": "code",
      "source": [
        "model.compile(optimizer = 'adam',\n",
        "              loss=loss_fn,\n",
        "              metrics=['accuracy'])"
      ],
      "metadata": {
        "id": "9eff_JTy2008"
      },
      "execution_count": 15,
      "outputs": []
    },
    {
      "cell_type": "markdown",
      "source": [
        " \\- Train and evaluate your model -\n",
        "Use the \"Model.fit\" method to adjust your model parameters and minimize the loss"
      ],
      "metadata": {
        "id": "LH4Y_bDf3iLo"
      }
    },
    {
      "cell_type": "code",
      "source": [
        "model.fit(x_train, y_train, epochs=5)"
      ],
      "metadata": {
        "colab": {
          "base_uri": "https://localhost:8080/"
        },
        "id": "vTHMSygC3e2f",
        "outputId": "2ee745f8-294c-4027-f560-82eaf7f537ba"
      },
      "execution_count": 16,
      "outputs": [
        {
          "output_type": "stream",
          "name": "stdout",
          "text": [
            "Epoch 1/5\n",
            "\u001b[1m1875/1875\u001b[0m \u001b[32m━━━━━━━━━━━━━━━━━━━━\u001b[0m\u001b[37m\u001b[0m \u001b[1m6s\u001b[0m 3ms/step - accuracy: 0.8589 - loss: 0.4841\n",
            "Epoch 2/5\n",
            "\u001b[1m1875/1875\u001b[0m \u001b[32m━━━━━━━━━━━━━━━━━━━━\u001b[0m\u001b[37m\u001b[0m \u001b[1m5s\u001b[0m 3ms/step - accuracy: 0.9565 - loss: 0.1491\n",
            "Epoch 3/5\n",
            "\u001b[1m1875/1875\u001b[0m \u001b[32m━━━━━━━━━━━━━━━━━━━━\u001b[0m\u001b[37m\u001b[0m \u001b[1m4s\u001b[0m 2ms/step - accuracy: 0.9688 - loss: 0.1052\n",
            "Epoch 4/5\n",
            "\u001b[1m1875/1875\u001b[0m \u001b[32m━━━━━━━━━━━━━━━━━━━━\u001b[0m\u001b[37m\u001b[0m \u001b[1m6s\u001b[0m 3ms/step - accuracy: 0.9744 - loss: 0.0845\n",
            "Epoch 5/5\n",
            "\u001b[1m1875/1875\u001b[0m \u001b[32m━━━━━━━━━━━━━━━━━━━━\u001b[0m\u001b[37m\u001b[0m \u001b[1m4s\u001b[0m 2ms/step - accuracy: 0.9772 - loss: 0.0744\n"
          ]
        },
        {
          "output_type": "execute_result",
          "data": {
            "text/plain": [
              "<keras.src.callbacks.history.History at 0x7daf1892f9a0>"
            ]
          },
          "metadata": {},
          "execution_count": 16
        }
      ]
    },
    {
      "cell_type": "markdown",
      "source": [
        "The \"Model.evaluate\" method checks the model's performance, usually on a validation set or test set."
      ],
      "metadata": {
        "id": "M4FBodP433vx"
      }
    },
    {
      "cell_type": "code",
      "source": [
        "model.evaluate(x_test, y_test, verbose=2)"
      ],
      "metadata": {
        "colab": {
          "base_uri": "https://localhost:8080/"
        },
        "id": "iTSdt_EA4Fxw",
        "outputId": "6e24a187-fc57-4481-9a68-58211d0cb0ab"
      },
      "execution_count": 17,
      "outputs": [
        {
          "output_type": "stream",
          "name": "stdout",
          "text": [
            "313/313 - 0s - 2ms/step - accuracy: 0.9775 - loss: 0.0734\n"
          ]
        },
        {
          "output_type": "execute_result",
          "data": {
            "text/plain": [
              "[0.0734427198767662, 0.9775000214576721]"
            ]
          },
          "metadata": {},
          "execution_count": 17
        }
      ]
    },
    {
      "cell_type": "code",
      "source": [
        "# if you want your model to return a probability\n",
        "# you can wrap the trained model, and attach the softmax to it:\n",
        "probability_model = tf.keras.Sequential([\n",
        "    model,\n",
        "    tf.keras.layers.Softmax()\n",
        "])\n",
        "probability_model(x_test[:5])"
      ],
      "metadata": {
        "colab": {
          "base_uri": "https://localhost:8080/"
        },
        "id": "XpiOXFNN4Wzs",
        "outputId": "599edc9b-9666-415b-d3b5-75f74bb5b283"
      },
      "execution_count": 18,
      "outputs": [
        {
          "output_type": "execute_result",
          "data": {
            "text/plain": [
              "<tf.Tensor: shape=(5, 10), dtype=float32, numpy=\n",
              "array([[2.32123796e-08, 2.72963536e-08, 3.06903530e-06, 4.91089668e-05,\n",
              "        1.95364298e-11, 1.70647194e-08, 1.13830806e-13, 9.99945402e-01,\n",
              "        2.01513174e-07, 2.22623248e-06],\n",
              "       [4.33173170e-07, 7.38193703e-05, 9.99833107e-01, 9.15482815e-05,\n",
              "        1.23323643e-14, 1.97725129e-07, 4.12798045e-08, 1.17103105e-13,\n",
              "        8.27078395e-07, 8.19508171e-14],\n",
              "       [1.76895014e-07, 9.98900056e-01, 1.70116346e-05, 4.06348590e-06,\n",
              "        3.12762022e-05, 2.52439859e-05, 4.99997577e-06, 9.53756215e-04,\n",
              "        5.98882034e-05, 3.40678753e-06],\n",
              "       [9.99951720e-01, 3.83431553e-09, 1.41687569e-05, 2.77388551e-07,\n",
              "        1.70383800e-07, 7.20243224e-06, 4.27232499e-06, 7.68135942e-06,\n",
              "        2.97496978e-08, 1.45519225e-05],\n",
              "       [7.44751651e-06, 1.09636726e-08, 4.78238981e-05, 2.75613843e-06,\n",
              "        9.83906627e-01, 7.73152897e-06, 5.98952874e-06, 1.36830975e-04,\n",
              "        6.03289118e-06, 1.58787649e-02]], dtype=float32)>"
            ]
          },
          "metadata": {},
          "execution_count": 18
        }
      ]
    }
  ]
}